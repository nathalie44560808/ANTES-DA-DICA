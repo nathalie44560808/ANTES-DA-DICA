{
  "nbformat": 4,
  "nbformat_minor": 0,
  "metadata": {
    "colab": {
      "provenance": [],
      "authorship_tag": "ABX9TyMtVMcLFdKd1nOUN4BNkjGA",
      "include_colab_link": true
    },
    "kernelspec": {
      "name": "python3",
      "display_name": "Python 3"
    },
    "language_info": {
      "name": "python"
    }
  },
  "cells": [
    {
      "cell_type": "markdown",
      "metadata": {
        "id": "view-in-github",
        "colab_type": "text"
      },
      "source": [
        "<a href=\"https://colab.research.google.com/github/nathalie44560808/ANTES-DA-DICA/blob/main/Untitled1.ipynb\" target=\"_parent\"><img src=\"https://colab.research.google.com/assets/colab-badge.svg\" alt=\"Open In Colab\"/></a>"
      ]
    },
    {
      "cell_type": "code",
      "source": [
        "# Solicita ao usuário que digite a temperatura em Fahrenheit\n",
        "fahrenheit = float(input(\"Digite a temperatura em Fahrenheit: \"))\n",
        "\n",
        "# Converte a temperatura para Celsius usando a fórmula\n",
        "celsius = (5 / 9) * (fahrenheit - 32)\n",
        "\n",
        "# Exibe o resultado\n",
        "print(f\"A temperatura em Celsius é: {celsius:.2f}\")"
      ],
      "metadata": {
        "colab": {
          "base_uri": "https://localhost:8080/"
        },
        "id": "T2sw02AY3peq",
        "outputId": "8482a991-ceab-4718-cf48-aaa44348fa81"
      },
      "execution_count": 4,
      "outputs": [
        {
          "output_type": "stream",
          "name": "stdout",
          "text": [
            "Digite a temperatura em Fahrenheit: 69\n",
            "A temperatura em Celsius é: 20.56\n"
          ]
        }
      ]
    }
  ]
}